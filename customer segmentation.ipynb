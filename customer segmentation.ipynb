{
 "cells": [
  {
   "cell_type": "markdown",
   "id": "7ff96802",
   "metadata": {},
   "source": [
    "\n",
    "# -------------------Customer Segmentation--------------------------\n"
   ]
  },
  {
   "cell_type": "code",
   "execution_count": 1,
   "id": "e73a8aee",
   "metadata": {},
   "outputs": [],
   "source": [
    "import numpy as np\n",
    "import pandas as pd\n",
    "import matplotlib.pyplot as plt\n",
    "from sklearn.cluster import KMeans"
   ]
  },
  {
   "cell_type": "code",
   "execution_count": 2,
   "id": "aca3b6a8",
   "metadata": {},
   "outputs": [],
   "source": [
    "df=pd.read_csv("Mall_Customers.csv")"
   ]
  },
  {
   "cell_type": "code",
   "execution_count": 3,
   "id": "165e372a",
   "metadata": {},
   "outputs": [
    {
     "data": {
      "text/html": [
       "<div>\n",
       "<style scoped>\n",
       "    .dataframe tbody tr th:only-of-type {\n",
       "        vertical-align: middle;\n",
       "    }\n",
       "\n",
       "    .dataframe tbody tr th {\n",
       "        vertical-align: top;\n",
       "    }\n",
       "\n",
       "    .dataframe thead th {\n",
       "        text-align: right;\n",
       "    }\n",
       "</style>\n",
       "<table border=\"1\" class=\"dataframe\">\n",
       "  <thead>\n",
       "    <tr style=\"text-align: right;\">\n",
       "      <th></th>\n",
       "      <th>CustomerID</th>\n",
       "      <th>Gender</th>\n",
       "      <th>Age</th>\n",
       "      <th>Annual_Income</th>\n",
       "      <th>Spending_Score</th>\n",
       "    </tr>\n",
       "  </thead>\n",
       "  <tbody>\n",
       "    <tr>\n",
       "      <th>0</th>\n",
       "      <td>1</td>\n",
       "      <td>Male</td>\n",
       "      <td>19</td>\n",
       "      <td>15</td>\n",
       "      <td>39</td>\n",
       "    </tr>\n",
       "    <tr>\n",
       "      <th>1</th>\n",
       "      <td>2</td>\n",
       "      <td>Male</td>\n",
       "      <td>21</td>\n",
       "      <td>15</td>\n",
       "      <td>81</td>\n",
       "    </tr>\n",
       "    <tr>\n",
       "      <th>2</th>\n",
       "      <td>3</td>\n",
       "      <td>Female</td>\n",
       "      <td>20</td>\n",
       "      <td>16</td>\n",
       "      <td>6</td>\n",
       "    </tr>\n",
       "    <tr>\n",
       "      <th>3</th>\n",
       "      <td>4</td>\n",
       "      <td>Female</td>\n",
       "      <td>23</td>\n",
       "      <td>16</td>\n",
       "      <td>77</td>\n",
       "    </tr>\n",
       "    <tr>\n",
       "      <th>4</th>\n",
       "      <td>5</td>\n",
       "      <td>Female</td>\n",
       "      <td>31</td>\n",
       "      <td>17</td>\n",
       "      <td>40</td>\n",
       "    </tr>\n",
       "  </tbody>\n",
       "</table>\n",
       "</div>"
      ],
      "text/plain": [
       "   CustomerID  Gender  Age  Annual_Income  Spending_Score\n",
       "0           1    Male   19             15              39\n",
       "1           2    Male   21             15              81\n",
       "2           3  Female   20             16               6\n",
       "3           4  Female   23             16              77\n",
       "4           5  Female   31             17              40"
      ]
     },
     "execution_count": 3,
     "metadata": {},
     "output_type": "execute_result"
    }
   ],
   "source": [
    "df.head()"
   ]
  },
  {
   "cell_type": "code",
   "execution_count": 4,
   "id": "db32d252",
   "metadata": {},
   "outputs": [
    {
     "data": {
      "text/plain": [
       "(200, 5)"
      ]
     },
     "execution_count": 4,
     "metadata": {},
     "output_type": "execute_result"
    }
   ],
   "source": [
    "df.shape"
   ]
  },
  {
   "cell_type": "code",
   "execution_count": 5,
   "id": "e8c658f4",
   "metadata": {},
   "outputs": [
    {
     "data": {
      "text/plain": [
       "1000"
      ]
     },
     "execution_count": 5,
     "metadata": {},
     "output_type": "execute_result"
    }
   ],
   "source": [
    "df.size"
   ]
  },
  {
   "cell_type": "raw",
   "id": "7a833b33",
   "metadata": {},
   "source": [
    "Selecting Annual income and Spending Score columns"
   ]
  },
  {
   "cell_type": "code",
   "execution_count": 6,
   "id": "369466c8",
   "metadata": {},
   "outputs": [
    {
     "data": {
      "text/plain": [
       "Text(0, 0.5, 'Spending_Score')"
      ]
     },
     "execution_count": 6,
     "metadata": {},
     "output_type": "execute_result"
    },
    {
     "data": {
      "image/png": "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\n",
      "text/plain": [
       "<Figure size 432x288 with 1 Axes>"
      ]
     },
     "metadata": {
      "needs_background": "light"
     },
     "output_type": "display_data"
    }
   ],
   "source": [
    "plt.scatter(df.Annual_Income,df.Spending_Score)\n",
    "plt.xlabel('Annual_Income')\n",
    "plt.ylabel('Spending_Score')"
   ]
  },
  {
   "cell_type": "code",
   "execution_count": 7,
   "id": "53d59e50",
   "metadata": {},
   "outputs": [
    {
     "name": "stderr",
     "output_type": "stream",
     "text": [
      "F:\\Anaconda\\lib\\site-packages\\sklearn\\cluster\\_kmeans.py:881: UserWarning: KMeans is known to have a memory leak on Windows with MKL, when there are less chunks than available threads. You can avoid it by setting the environment variable OMP_NUM_THREADS=1.\n",
      "  warnings.warn(\n"
     ]
    }
   ],
   "source": [
    "sse=[]\n",
    "for i in range(1,11):\n",
    "    km=KMeans(n_clusters=i)\n",
    "    km.fit_predict(df[['Annual_Income','Spending_Score']])\n",
    "    sse.append(km.inertia_)"
   ]
  },
  {
   "cell_type": "code",
   "execution_count": 8,
   "id": "5e495bd9",
   "metadata": {},
   "outputs": [
    {
     "data": {
      "text/plain": [
       "[<matplotlib.lines.Line2D at 0x24d5e998c10>]"
      ]
     },
     "execution_count": 8,
     "metadata": {},
     "output_type": "execute_result"
    },
    {
     "data": {
      "image/png": "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\n",
      "text/plain": [
       "<Figure size 432x288 with 1 Axes>"
      ]
     },
     "metadata": {
      "needs_background": "light"
     },
     "output_type": "display_data"
    }
   ],
   "source": [
    "plt.plot(range(1,11),sse)"
   ]
  },
  {
   "cell_type": "code",
   "execution_count": 9,
   "id": "00737eab",
   "metadata": {},
   "outputs": [],
   "source": [
    "km=KMeans(n_clusters=5)"
   ]
  },
  {
   "cell_type": "code",
   "execution_count": 10,
   "id": "f5da5ba1",
   "metadata": {},
   "outputs": [],
   "source": [
    "predicted=km.fit_predict(df[[\"Annual_Income\",\"Spending_Score\"]])"
   ]
  },
  {
   "cell_type": "code",
   "execution_count": 11,
   "id": "95e166db",
   "metadata": {},
   "outputs": [
    {
     "data": {
      "text/plain": [
       "array([2, 4, 2, 4, 2, 4, 2, 4, 2, 4, 2, 4, 2, 4, 2, 4, 2, 4, 2, 4, 2, 4,\n",
       "       2, 4, 2, 4, 2, 4, 2, 4, 2, 4, 2, 4, 2, 4, 2, 4, 2, 4, 2, 4, 2, 0,\n",
       "       2, 4, 0, 0, 0, 0, 0, 0, 0, 0, 0, 0, 0, 0, 0, 0, 0, 0, 0, 0, 0, 0,\n",
       "       0, 0, 0, 0, 0, 0, 0, 0, 0, 0, 0, 0, 0, 0, 0, 0, 0, 0, 0, 0, 0, 0,\n",
       "       0, 0, 0, 0, 0, 0, 0, 0, 0, 0, 0, 0, 0, 0, 0, 0, 0, 0, 0, 0, 0, 0,\n",
       "       0, 0, 0, 0, 0, 0, 0, 0, 0, 0, 0, 0, 0, 3, 1, 3, 0, 3, 1, 3, 1, 3,\n",
       "       0, 3, 1, 3, 1, 3, 1, 3, 1, 3, 0, 3, 1, 3, 1, 3, 1, 3, 1, 3, 1, 3,\n",
       "       1, 3, 1, 3, 1, 3, 1, 3, 1, 3, 1, 3, 1, 3, 1, 3, 1, 3, 1, 3, 1, 3,\n",
       "       1, 3, 1, 3, 1, 3, 1, 3, 1, 3, 1, 3, 1, 3, 1, 3, 1, 3, 1, 3, 1, 3,\n",
       "       1, 3])"
      ]
     },
     "execution_count": 11,
     "metadata": {},
     "output_type": "execute_result"
    }
   ],
   "source": [
    "predicted"
   ]
  },
  {
   "cell_type": "code",
   "execution_count": 12,
   "id": "c4352753",
   "metadata": {},
   "outputs": [],
   "source": [
    "df['clusters']=predicted"
   ]
  },
  {
   "cell_type": "code",
   "execution_count": 13,
   "id": "b9df3b85",
   "metadata": {},
   "outputs": [
    {
     "data": {
      "text/html": [
       "<div>\n",
       "<style scoped>\n",
       "    .dataframe tbody tr th:only-of-type {\n",
       "        vertical-align: middle;\n",
       "    }\n",
       "\n",
       "    .dataframe tbody tr th {\n",
       "        vertical-align: top;\n",
       "    }\n",
       "\n",
       "    .dataframe thead th {\n",
       "        text-align: right;\n",
       "    }\n",
       "</style>\n",
       "<table border=\"1\" class=\"dataframe\">\n",
       "  <thead>\n",
       "    <tr style=\"text-align: right;\">\n",
       "      <th></th>\n",
       "      <th>CustomerID</th>\n",
       "      <th>Gender</th>\n",
       "      <th>Age</th>\n",
       "      <th>Annual_Income</th>\n",
       "      <th>Spending_Score</th>\n",
       "      <th>clusters</th>\n",
       "    </tr>\n",
       "  </thead>\n",
       "  <tbody>\n",
       "    <tr>\n",
       "      <th>0</th>\n",
       "      <td>1</td>\n",
       "      <td>Male</td>\n",
       "      <td>19</td>\n",
       "      <td>15</td>\n",
       "      <td>39</td>\n",
       "      <td>2</td>\n",
       "    </tr>\n",
       "    <tr>\n",
       "      <th>1</th>\n",
       "      <td>2</td>\n",
       "      <td>Male</td>\n",
       "      <td>21</td>\n",
       "      <td>15</td>\n",
       "      <td>81</td>\n",
       "      <td>4</td>\n",
       "    </tr>\n",
       "    <tr>\n",
       "      <th>2</th>\n",
       "      <td>3</td>\n",
       "      <td>Female</td>\n",
       "      <td>20</td>\n",
       "      <td>16</td>\n",
       "      <td>6</td>\n",
       "      <td>2</td>\n",
       "    </tr>\n",
       "    <tr>\n",
       "      <th>3</th>\n",
       "      <td>4</td>\n",
       "      <td>Female</td>\n",
       "      <td>23</td>\n",
       "      <td>16</td>\n",
       "      <td>77</td>\n",
       "      <td>4</td>\n",
       "    </tr>\n",
       "    <tr>\n",
       "      <th>4</th>\n",
       "      <td>5</td>\n",
       "      <td>Female</td>\n",
       "      <td>31</td>\n",
       "      <td>17</td>\n",
       "      <td>40</td>\n",
       "      <td>2</td>\n",
       "    </tr>\n",
       "  </tbody>\n",
       "</table>\n",
       "</div>"
      ],
      "text/plain": [
       "   CustomerID  Gender  Age  Annual_Income  Spending_Score  clusters\n",
       "0           1    Male   19             15              39         2\n",
       "1           2    Male   21             15              81         4\n",
       "2           3  Female   20             16               6         2\n",
       "3           4  Female   23             16              77         4\n",
       "4           5  Female   31             17              40         2"
      ]
     },
     "execution_count": 13,
     "metadata": {},
     "output_type": "execute_result"
    }
   ],
   "source": [
    "df.head()"
   ]
  },
  {
   "cell_type": "code",
   "execution_count": 14,
   "id": "6f07b06e",
   "metadata": {},
   "outputs": [],
   "source": [
    "cl0=df[df.clusters==0]\n",
    "cl1=df[df.clusters==1]\n",
    "cl2=df[df.clusters==2]\n",
    "cl3=df[df.clusters==3]\n",
    "cl4=df[df.clusters==4]\n"
   ]
  },
  {
   "cell_type": "code",
   "execution_count": 15,
   "id": "e63348cd",
   "metadata": {},
   "outputs": [
    {
     "data": {
      "text/plain": [
       "array([[55.2962963 , 49.51851852],\n",
       "       [88.2       , 17.11428571],\n",
       "       [26.30434783, 20.91304348],\n",
       "       [86.53846154, 82.12820513],\n",
       "       [25.72727273, 79.36363636]])"
      ]
     },
     "execution_count": 15,
     "metadata": {},
     "output_type": "execute_result"
    }
   ],
   "source": [
    "km.cluster_centers_"
   ]
  },
  {
   "cell_type": "code",
   "execution_count": 16,
   "id": "0671ae74",
   "metadata": {},
   "outputs": [
    {
     "data": {
      "text/plain": [
       "Text(0, 0.5, 'Spending Score')"
      ]
     },
     "execution_count": 16,
     "metadata": {},
     "output_type": "execute_result"
    },
    {
     "data": {
      "image/png": "iVBORw0KGgoAAAANSUhEUgAAApwAAAKTCAYAAAC0HdhwAAAAOXRFWHRTb2Z0d2FyZQBNYXRwbG90bGliIHZlcnNpb24zLjMuNCwgaHR0cHM6Ly9tYXRwbG90bGliLm9yZy8QVMy6AAAACXBIWXMAAAsTAAALEwEAmpwYAABR8ElEQVR4nO3de5yV9Xnv/e/FzHCaqSMElAEPqPUQQVLIpMYQ0wRabEsIbhuV7KR1t32ap3u3DZrWRm1jJqZpfJ70CZK90+7aaGMtFQkYgY67MYJJWzWkA+hgokA4hNNwSAjTiDDDDNfzx1qDc1gzs9aa+7w+79eL17B+63TdvwG8vO/1ncvcXQAAAEBYRsVdAAAAALKNhhMAAAChouEEAABAqGg4AQAAECoaTgAAAISKhhMAAAChouEEAABAqGg4AaSWmf1XM2sxszfMrM3M/o+ZvXeEr9lkZv8YVI1hMLMrzWylmR0zs/80s51m9j/N7KK4awOAQmg4AaSSmX1S0kOS/lLShZIukfTXkhbHWFagzKy6wNrPS9ok6ZCk2e5+nqS5knZJKthsF3odAIgSDSeA1DGzekkPSPoDd3/K3U+6+xl3X+/ud+cf8zUz+4tez3m/mR3odftTZnbQzH5mZtvNbL6Z/aqk+yTdnj9r+kr+sVPNbJ2ZHTezH5rZ7/V6nSYz+7qZ/WP+tbaZ2VVmdq+ZHTWz/Wa2oHftZvZI/ozsQTP7CzOryt/338zsBTNbZmbHJTUVOPwmSS+4+yfd/YAkuftRd3/I3Vf2Ptb8MR6W9PdmNsbMHjKzQ/lfD5nZmF7v++/99tjzzW3PXv5vM/tW/hi/Y2aX5u+zfL1HzazdzFrNbGZ531kAWUXDCSCNbpA0VtI3ynmymV0t6Q8lvcvdf07STZL2uvu/KHfG9El3r3P3d+Sf8oSkA5KmSvqwpL80s/m9XnKRpMclTZC0VdI3lfv3dZpyjfHf9nrsY5K6JP28pNmSFkj6v3rdf72k3ZIukPT5AuX/sqQ1RRzmFEkTJV0q6eOS/kzSuyX9gqR3SPpFSX9exOv0+Kikz0maJOllSSvy6wskvU/SVZLOl3S7pJ+U8LoAKgANJ4A0epukH7t7V5nP75Y0RtK1Zlbj7nvdfVehB5rZxcpdqv6Uu59295clfVXSb/Z62L+5+zfz9Xxd0mRJD7r7GUkrJU03s/PN7EJJvybpzvxZ2aOSlkla0uu1Drn7/3T3Lnc/VaCkSZIO96rvD83sRP6M7N/1etxZSZ9x947863xU0gP5s6HHJH223zEMp9nd/9XdO5RrXm/I780ZST8n6RpJ5u6vuXtbCa8LoALQcAJIo59ImlTuZxPd/YeS7lTu8vTRfABn6iAPnyrpuLv/rNfaj5Q7e9njSK/fn1KuGe7udVuS6pQ721gjqS3fJJ5Q7uznBb2ev3+Y8n8iqaHXsfwvdz9fuc+z1vR63DF3P93vOH7U7xgGO+ZCztXl7m9IOi5pqrtvlPS/JH1F0hEze9jMzivhdQFUABpOAGn0kqTTkm4e4jEnJY3vdXtK7zvd/Z/c/b3KNYEu6f/puavf6xySNNHMfq7X2iWSDpZetvZL6pA0yd3Pz/86z91n9C5tmNfYIOmWIt6r0HFc2uv2Jfk1qd9emVmfvcq7uNf9dcpdrj8kSe7+ZXd/p6QZyl1av7uI+gBUEBpOAKnj7u2S7pf0FTO72czGm1mNmf2amf2/+Ye9LOnXzWxivoG6s+f5Zna1mc3Lh2ZOK3cWsueM5BHlLoGPyr/XfkkvSvqCmY01s1mSfldvfYaxlLrbJD0r6f8zs/PMbJSZXWFmv1TCyzRJutHMvmRm0/LHM0nS24d53hOS/tzMJucff7+knh//9IqkGWb2C2Y2VoXDSr9uZu81s9HKfZZzk7vvN7N3mdn1ZlajXON6Wm/tJQBIouEEkFLu/iVJn1Qu+HJMubOHfyjp6fxDHleukdqrXJP3ZK+nj5H0oKQfK/d5yAuUS6dLuc9gStJPzGxL/vcfkTRduTN631Dus5HfKrP035I0WtIPJP1U0mr1ukQ+HHffoVz45yJJr5jZzyS9kK/t00M89S8ktUhqlbRN0pb8Ws9rPiDpOUk7Jf17gef/k6TPKHcp/Z3KfSZUks6T9Hf5Y/mRcpf8/6rY4wFQGcx9uKs3AIBKZmZfk3TA3UtJtQPAOZzhBAAAQKhoOAEAABAqLqkDAAAgVJzhBAAAQKhoOAEAABCqsqZ0JMWkSZN8+vTpcZcBAABQ8TZv3vxjd59c6L5UN5zTp09XS0tL3GUAAABUPDP70WD3cUkdAAAAoaLhBAAAQKhoOAEAABAqGk4AAACEioYTAAAAoaLhBAAAQKhoOAEAABAqGk4AAACEioYTAAAAoaLhBAAAQKhoOAEAABAqGk4AAACEioYTAAAAoaLhBAAAQKhoOAEAABAqGk4AAACEKrSG08weNbOjZvZqr7WJZvYtM9uZ/zqh1333mtkPzWy7md0UVl0AAACIVphnOL8m6Vf7rd0jaYO7XylpQ/62zOxaSUskzcg/56/NrCrE2gAAABCR0BpOd/9XScf7LS+W9Fj+949JurnX+kp373D3PZJ+KOkXw6oNAAAA0Yn6M5wXunubJOW/XpBfnyZpf6/HHcivDWBmHzezFjNrOXbsWKjFAgAAYOSSEhqyAmte6IHu/rC7N7p74+TJk0MuCwAAACMVdcN5xMwaJCn/9Wh+/YCki3s97iJJhyKuDQAAACGojvj91km6Q9KD+a9re63/k5l9SdJUSVdK+l7EtUVix6bDemntLr1xvEN1E8fohsVX6Krrp8RdFgAAQGhCazjN7AlJ75c0ycwOSPqMco3mKjP7XUn7JN0qSe7+fTNbJekHkrok/YG7d4dVW1x2bDqs51e8rq7Os5KkN4536PkVr0sSTScAAMis0BpOd//IIHfNH+Txn5f0+bDqSYKX1u4612z26Oo8q5fW7qLhBAAAmZWU0FBFeON4R0nrAAAAWUDDGaG6iWNKWgcAAMgCGs4I3bD4ClWP7rvl1aNH6YbFV8RUEQAAQPiiTqlXtJ7PaQaRUiftDgAA0oKGM2JXXT9lxI0haXcAAJAmXFJPoaHS7gAAAElDw5lCpN0BAECa0HCmEGl3AACQJjScKUTaHciu9vXrtXPefL329mu1c958ta9fH3dJFY3vBxAMQkMpFGTaHUBytK9fr7ZP3y8/fVqS1HXokNo+fb8kqX7RojhLq0h8P4DgmLvHXUPZGhsbvaWlJe4yACAQO+fNV9ehQwPWq6dO1ZUbN8RQUWXj+wGUxsw2u3tjofu4pA4ACdHV1lbSOsLF9wMIDg0nACREdUNDSesIF98PIDg0nACQEBfcdads7Ng+azZ2rC646854CqpwfD+A4BAaAoCE6AmiHF32kLra2lTd0KAL7rqTgEpM+H4AwSE0BAAAgBEjNAQAAIDY0HACAAAgVDScAAAACBUNJwAMgdGGA7EnAEpFSh0ABsFow4HYEwDl4AwnAAzi6LKHzjVWPfz0aR1d9lA8BSUAewKgHDScADAIRhsOxJ4AKAcNJwAMgtGGA7EnAMpBwwkAg2C04UDsCYByEBoK0Y5Nh/XS2l1643iH6iaO0Q2Lr9BV10+JuywARWK04UDsCYByMNoyJDs2HdbzK15XV+fZc2vVo0fpAx+9hqYTAABkDqMtY/DS2l19mk1J6uo8q5fW7oqpIgAAgHjQcIbkjeMdJa0DAABkFQ1nSOomjilpHQAAIKtoOENyw+IrVD267/ZWjx6lGxZfEVNFAOIW5UhIxk8CSBJS6iHpCQaRUgcgRTsSkvGTAJKGlDoARGDnvPnqOnRowHr11Km6cuOG1L4XAPQgpQ4AMYtyJCTjJwEkDQ0nAEQgypGQjJ8EkDQ0nAAQgShHQjJ+EkDSEBpCpMIa98kYUSRdlCMh4xg/2b5+PeMuAQyK0BAiE9a4T8aIAvHqn4qXcmdUGz73AE0nUEEIDSERwhr3yRhRIF5Hlz3Up9mUJD99WkeXPRRPQQASh4YTkQlr3CdjRIF4kYoHMBwaTkQmrHGfjBEF4kUqHsBwaDgRmbDGfTJGFOVi/GMwSMVnF39HEBRS6ohMWOM+GSOKcjD+MThxpOIRPv6OIEik1AFUJMY/AkPj7whKRUodAPoh6AIMjb8jCBINJ4CKRNAFGBp/RxAkGk4AFYmgCzA0/o4gSDScACpS/aJFavjcA6qeOlUyU/XUqYmcjENKeCD2JBpp+TuCdCA0BAAJxcjIgdgTILkIDQFACjEyciD2BEgnGk4ASChSwgOxJ0A60XACQEKREh6IPQHSiYYTABLqgrvulKr7DYSrrq7olDDJaSCdGG0JAAlmZvJ+tysZYzSBdCKlDgAJxWhBAGlCSh0AUoiADICsoOEEgIQiIAMgK2g4ASChCMgAyAoaTgAIQBjjFusXLVL9f7lZqqrKLVRVqf6/3ExAJkSMzQTCQcMJACPUM26x69AhyV1dhw6p7dP3j7hZaV+/Xu3feFrq7s4tdHer/RtP0wSFJKzvIwAaTgAYsbDGLTLGMVrsNxAeGk4AGKGw0uSk1KPFfgPhoeEEgBEKK01OSj1a7DcQHhpOABihsNLkpNSjxX4D4WG0JYa1Y9NhvbR2l9443qG6iWN0w+IrdNX1U+IuC0iMcscttq9fP+RzGOMYLfYbCA+jLTGkHZsO6/kVr6ur8+y5terRo/SBj15D0wmMQE8iundIxcaOVcPnHqDBAZBKjLZE2V5au6tPsylJXZ1n9dLaXTFVBGQDiWgAlYSGE0N643hHSesAikMiGkAloeHEkOomjilpHUBxSEQDqCQ0nBjSDYuvUPXovn9MqkeP0g2Lr4ipIiAbsp6ITsOIyDTUCGQFKXUMqScYREodCFaWE9H9A1E9IyIlJeb40lAjkCWk1AEAgdo5b35uHnk/1VOn6sqNG2KoaKA01AikDSl1AEBk0hCISkONQJbQcAIAApWGQFQaagSyhIYTABCoNASi0lAjkCU0nACAQNUvWqSGzz2g6qlTJTNVT52auAlKcdRIKh6VjNAQAAAhY5QpKgGhIQAAYsQoU1Q6Gk4AAEJGKh6VjoYTAICQkYpHpaPhBAAgZKTiUekYbQkAQMiyPMoUKAYNJwAAEahftIgGExWLS+oAAAAIFQ0nAAAAQkXDCQAAgFDRcAJAyjAiEcBQkvhvBA0nAKRIz4jErkOHJHd1HTqktk/fH9t/UNxdTz75pNI8JhnIkqT9G9GDhhMAUiRpIxK3bNmiJUuWaOvWrbG8P4C+kvZvRA8aTgBIkaSNSFy5cqXMTCtXrozl/QH0lbR/I3rQcAJAiiRpRKK7a8WKFX2+AohXkv6N6I2GEwPs2HRYj933gr7y+xv12H0vaMemw3GXBCAvzhGJ3d3d6urqOvertbVV7e3tkqQTJ06otbW1z/3d3d2h1wSgr6SOUWXSEPrYsemwnl/xuro6z0qS3jjeoedXvC5Juur6KXGWBkDxjUhsb2/XhRdeqI6ODpnZufXRo0dLyjWjs2fPPrfu7hozZoyOHDmi+vr6UGsD8JakjlG1NF8CaWxs9JaWlrjLyJTH7ntBbxzvGLBeN3GM7vjLuTFUBCApNmzYoFtvvVUnT55UZ2fnoI+rqalRXV2dVq9erXnz5kVYIYA4mdlmd28sdB+X1NFHoWZzqHUAlWP+/Pnavn275s6dq9ra2oKPqa2t1Y033qgdO3bQbAI4h4YTfdRNHFPSOoDKMnnyZG3YsEELFy5UVVVVn/uqqqq0cOFCPffcc5o0aVJMFQJIIhpO9HHD4itUPbrvH4vq0aN0w+IrYqoIQNKYmbZu3TogFNTd3a2XX365z2c8AUAiNFSUHZsO66W1u/TG8Q7VTRyjGxZfkdkATc9xhXW8lbSXQFbt2bNH+/fvlySNHz9el112mfbs2aM333xT+/bt0969ezV9+vR4iwSQKDScw6jE1PZV108J5dgqcS+BLFqzZo06OztVV1enr371q7r99tu1cuVK/d7v/Z7efPNNrVmzRn/8x38cd5kAEoRL6sN4ae2ucw1Sj67Os3pp7a6YKkov9hLIhnXr1mnmzJnatm2bbr/9dknSkiVLtG3bNs2YMUPr1q2LuUIAScMZzmGQ2g4Oewlkw+OPP65p06apurrvf0KmT5+uzZs3qy3mEXoAkocznMMgtR0c9hLIhksvvXRAs9mjpqZGl1xyScQVAUi6WBpOM7vLzL5vZq+a2RNmNtbMJprZt8xsZ/7rhDhq6y9LqW1315NPPhnbvOMs7SUAAChe5A2nmU2T9AlJje4+U1KVpCWS7pG0wd2vlLQhfzt2V10/RR/46DXnzsLVTRyjD3z0mlSGXLZs2aIlS5Zo69atsbx/lvYSAAAUL67PcFZLGmdmZySNl3RI0r2S3p+//zFJ35b0qTiK6y+s1HbUVq5cKTPTypUrNWfOnFhqyMpeAgCA4kV+htPdD0r6K0n7JLVJanf3ZyVd6O5t+ce0Sbqg0PPN7ONm1mJmLceOHYuq7NRzd61YsaLPVwAAgCjEcUl9gqTFki6TNFVSrZl9rNjnu/vD7t7o7o2TJ08Oq8zU6+7uVldX17lfra2tam9vlySdOHFCra2tfe7vPzEEAAAgKHFcUv9lSXvc/ZgkmdlTkt4j6YiZNbh7m5k1SDoaQ22Z0N7ergsvvFAdHR19RsyNHj1aUq4ZnT179rl1d9eYMWN05MgR1dfXR14vAADItjhS6vskvdvMxluuG5ov6TVJ6yTdkX/MHZLWxlBb5HZsOqzH7ntBX/n9jXrsvhe0Y9PhEb9mfX29mpubNWHCBNXU1Mjd5e7q6Mj9vMuOjo5za9XV1ZowYYKeeeYZmk0AQKK0r1+vnfPm67W3X6ud8+arff36uEtCmeL4DOcmSaslbZG0LV/Dw5IelPQrZrZT0q/kb2daz6jHnh983jPqMYimc/78+dq+fbvmzp2r2trago+pra3VjTfeqB07dmjevHkjfk8AAILSvn692j59v7oOHZLc1XXokNo+fT9NZ0rF8nM43f0z7n6Nu89099909w53/4m7z3f3K/Nfj8dRW5TCHvU4efJkbdiwQQsXLlRVVVWf+6qqqrRw4UI999xzmjRpUiDvBwBAUI4ue0h++nSfNT99WkeXPRRPQRgRJg3FKIpRj2amrVu3DggFdXd36+WXX+7zGU8AAJKia5ARqYOtI9loOGMUxajHPXv2aP/+/ZKk8ePHa8aMGRo/frwkad++fdq7d29g7wUAQFCqGxpKWkey0XDGKIpRj2vWrFFnZ6fq6ur06KOP6tVXX9Ujjzyiuro6dXZ2as2aNYG9FwAAQbngrjtlY8f2WbOxY3XBXXfGUxBGhIYzRlGMely3bp1mzpypbdu26fbbb5ckLVmyRNu2bdOMGTO0bt26wN4LQPBI6aJS1S9apIbPPaDqqVMlM1VPnaqGzz2g+kWL4i4NZbA0T5xpbGz0lpaWuMtItB/96EeaNm2aqqsH/sjVM2fOqK2tTZdcckkMlQEYTk9Kt3dwwsaO5T+6ABLJzDa7e2Oh+zjDmXGXXnppwWZTkmpqamg2gQQjpQsgK2g4ASChSOkCyAoaTgBIKFK6ALIijlnqmbBj02G9tHaX3jjeobqJY3TD4ivKCvsE9ToAgtG+fr2OLntIXW1tqm5o0AV33Rnb5yUvuOvOgp/hJKULIG1oOMvQM5KyZ0pQz0hKSSU1i0G9DoBg9A/p9IzSkxRL09nznklpgAGgXDScZRhqJGUpjWJQrwMgGEOFdOJq8uoXLaLBBJB6fIazDEGNpIxitCWA4hHSAYBw0HCWIaiRlFGMtgRQPEI6ABAOGs4yBDWSMorRlgCKxyg9AAgHn+EsQ8/nK3uny6fPfJteWrtL3/r7HxSdNi/0OqTUgfgkMaSTpNQ8AJSL0ZYB6J82l3JnKoOeiw6gsjDaEkCaMNoyZEOlzQGgXIy2BJAVNJwBIG0OIAyk5gFkBQ1nAEibAwgDqXkAWUHDGQDS5tHbsemwHrvvBX3l9zfqsfte0I5Nh+MuCRnV9tnP6rUZM/XaNW/XazNmqu2zn43svZOQmm9fv147583Xa2+/VjvnzVf7+vUjehyAykRKPQCkzaPFSFBEpe2zn9WJJ1a+tdDdfe52w2c+E/r7x52aL3bUZ9JGggJIHlLqSJ3H7nuh4Odj6yaO0R1/OTeGipBVr82YKXV3D7yjqkpv//6r0RcUsZ3z5qvr0KEB69VTp+rKjRtKfhyAbCOljkwhpIXIFGo2h1rPmGJDS4SbAAyHhhOpQ0gLkamqKm09Y4oNLRFuAjAcGk6kDiEtROX8224taT1rig0tJSHcBCDZaDiROlddP0Uf+Og1585o1k0cw1QnhKLhM5/R+R9Z8tYZzaoqnf+RJaEGhpKU9q5ftEgNn3tA1VOnSmaqnjq14JSjYh8HJF2S/v5lDaEhAEgIRlkC8eHv38gRGgKAFGCUJRAf/v6Fi4YTABKCtDcQH/7+hYuGEwASgrQ3EB/+/oWLSUMZsWPT4QGTjqTwph8Ver9yXjuo1wHi1r5+/YgnAl1w150DPkOm6mr5m2/qtbdfG/mkIaCSFPr7x09bCA4NZwYUGvX43D/8QCbT2W4/txbU+MegRksyohJZEdRox/6jLK2+Xjp5Ut0nTozodQEML+5RslnHJfUMeGntrnNNWw/v1rlms0dX51m9tHZXKO9XzmsH9TpA3IIMG9QvWqQrN27Q21/7garGj5efORPI6wIYXu+/f1du3ECzGSAazgwoZaRjEOMfgxotyYhKZEVYYQNCDACygoYzA0oZ6RjE+MegRksyohJZEVbYgBADgKyg4cyAQqMerUoaVWV91oIa/xjUaElGVCIrwhrtyMhIAFlBaChiYaSye54fVUp9sPcr9bWDeh0gboXCBnW/9D4dXfaQDv3pp8oOHxBiAJAVjLaMUP9UtpQ7o8cccCBbGJEHoBIx2jIhSGUDlYEReQDQFw1nhEhlA5WBdDkA9EXDGSFS2UBlIF0OAH3RcEaIVDaQDe3r12vnvPl67e3Xaue8+Wpfv77P/aTLAaAvUuoRIpUNpF8xYyxJlwNAX6TUAaAEO+fNV9ehQwPWq6dO1ZUbN8RQEQAkAyl1AAgIgSAAKB0NJwCUgEAQAJSOhhMASkAgCABKR2gIAEpAIAgASkfDCQAlql+0iAYTAErAJXUAAACEioYTAAAAoaLhBAAAQKhoOAEAgRtu/GclYk9QyQgNAQACVcz4z0rDnqDScYYTABCoo8seOtdY9fDTp3V02UPxFJQA7AkqHQ0nACBQjP8ciD1BpaPhBAAEivGfA7EnqHQ0nACAQDH+cyD2BJWOhhMAEKj6RYvU8LkHVD11qmSm6qlT1fC5BzIdjhkugV6JewL0Zu4edw1la2xs9JaWlrjLAABUsP4JdCl39pKGEpXGzDa7e2Oh+zjDCQDACJBAB4ZHwwkAwAiQQAeGR8MJAMAIkEAHhkfDCQDACJBAB4bHaEsAAEagJxh0dNlD6mprU3VDgy64604CQ0AvNJwAAIxQ/aJFNJjAELikDgAAgFDRcAIAACBUNJwAAAAIFZ/hTKAdmw7rpbW79MbxDtVNHKMbFl+hq66fEndZAAAAZaHhTJgdmw7r+RWvq6vzrCTpjeMden7F65JE0wkAAFKJS+oJ89LaXeeazR5dnWf10tpdMVUEAAAwMjScCfPG8Y6S1gEAAJKOhjNh6iaOKWkdAAAg6Wg4E+aGxVeoenTfb0v16FG6YfEVMVUEAAAwMoSGEqYnGERKfeRI+wMAkAw0nAl01fVTaIxGiLQ/AADJwSV1ZBJpfwAAkoOGE5lE2h8AgOSg4UQmkfYHACA5aDiRSaT9AQBIDkJDyCTS/gAAJAcNJzKLtD8AAMnAJXUAAACEioYTAAAAoaLhBAAAQKhoOAEAI9a+fr12zpuv195+rXbOm6/29evjLglAghAaAgCMSPv69Wr79P3y06clSV2HDqnt0/dLkuoXLYqzNAAJwRlOAMCIHF320Llms4efPq2jyx6KpyAAiUPDCQAYka62tpLWAVQeGk4AwIhUNzSUtA6g8tBwAgBG5IK77pSNHdtnzcaO1QV33RlPQQASh9AQAGBEeoJBR5c9pK62NlU3NOiCu+4kMATgHBpOAMCI1S9aRIMJYFBcUgcAAECoaDgBAAAQKhpOAAAAhIrPcGKAHZsO66W1u/TG8Q7VTRyjGxZfoauunxJ3WSV7eutBffGb23XoxClNPX+c7r7pat08e1rcZQEAUHFoONHHjk2H9fyK19XVeVaS9MbxDj2/4nVJSlXT+fTWg7r3qW06daZbknTwxCnd+9Q2SaLpBAAgYlxSRx8vrd11rtns0dV5Vi+t3RVTReX54je3n2s2e5w6060vfnN7TBUBAFC5aDjRxxvHO0paT6pDJ06VtA4AAMJDw4k+6iaOKWk9qaaeP66kdQAAEJ5YPsNpZudL+qqkmZJc0u9I2i7pSUnTJe2VdJu7/zSO+irZDYuv6PMZTkmqHj1KNyy+IsaqSnf3TVf3+QynJI2rqdLdN1097HP7h40+cM1kPf/6McJHvRDIAgCUwtw9+jc1e0zSv7n7V81stKTxku6TdNzdHzSzeyRNcPdPDfU6jY2N3tLSEkHFlaWSU+r9w0aFjKup0hduua5iG6xCe1TpewIAkMxss7s3Frwv6obTzM6T9Iqky73Xm5vZdknvd/c2M2uQ9G13H/J0FA0ngjb3wY06WMTnPKedP04v3DMvgoqSZ7A9quQ9AQAM3XDG8RnOyyUdk/T3ZrbVzL5qZrWSLnT3NknKf72g0JPN7ONm1mJmLceOHYuualSEYkNFlRw+IpAFAChVHA1ntaQ5kv7G3WdLOinpnmKf7O4Pu3ujuzdOnjw5rBpRoYoNFVVy+IhAFgCgVHE0nAckHXD3Tfnbq5VrQI/kL6Ur//VoDLWhwt1909UaV1M15GOKDR9lVaE9qvQ9AQAMLfKUursfNrP9Zna1u2+XNF/SD/K/7pD0YP7r2qhrA3pCL2Gl1PsHmaa/bZy+u/un6nZXlZk+cv3F+oubrwvykAJXaI/K3ZNy0+6k5AEgXeJKqf+Ccj8WabSk3ZJ+W7mzraskXSJpn6Rb3f34UK9DaAhpUkwCXpI+9u5LEt90BqHctDspeQBIpqSFhuTuL+c/hznL3W9295+6+0/cfb67X5n/OmSzCaRNoXGbhTyxaX8E1cSv3PGjjC0FgPRh0hAQkWJT3N0xXHWIQ7lpd1LyAJA+NJxARIpNcVeZhVxJMpSbdiclDwDpQ8MJRKSYBLwkfeT6iyOopnhPbz2ouQ9u1GX3NGvugxv19NaDgbxuuWn3IFPyYR0bAKCvWGapA5WoULo76Sn1/gGdgydO6d6ntknSiAM65abdg0rJh3lsAIC+YkmpB4WUOhCuLI+xzPKxAUAcEpdSB5AOWQ7oZPnYACBpaDgBDCrLAZ0sHxsAJA0NJ4BBZXmMZZaPDQCShtAQUEFKHQkZ5BjLqA13rGk+NgBIG0JDQIWopJGQlXSsAJAUhIYAVNRIyEo6VgBIAxpOoEJUUiq7ko4VANKgqIbTzC41s1/O/36cmf1cuGUBCFolpbIr6VgBIA2GbTjN7PckrZb0t/mliyQ9HWJNAEJQSansSjpWAEiDYlLqfyDpFyVtkiR332lmF4RaFZABpSbCw36dJKaygzq2/m6ePU0tPzquJzbtPzc29DfeOY3AEADEpJiGs8PdO81MkmRm1ZLSG20HIhDUnO6g533fPDs5TVeYs8yf3npQazYfVHf+p3B0u2vN5oNqvHRiYo4fACpJMZ/h/I6Z3SdpnJn9iqSvS1ofbllAugWVks5y2jrMY8vyvgFAGhXTcH5K0jFJ2yT935KekfTnYRYFpF1QKeksp63DPLYs7xsApNGQl9TNbJSkVnefKenvoikJSL+p54/TwQLNTakp6aBeJ4nCPLYs7xsApNGQDae7nzWzV8zsEnffF1VRQFjCCqn0d/dNV+vur7+iM2ff+rhzzSgrKiXdu8b6cTWqqTKd6X7rdUaSti7n+It5Tjmve/dNV+vu1a/0ObaaquL2aDh333R1wUlDpNQBIB7FhIYaJH3fzL4n6WTPort/KLSqgBCEGVIpyIa5XUD/Gk+cOqOaUaYJ42t04s0zI067l3r8xTxnRPvaP34YUBwxiYl8AKhkw85SN7NfKrTu7t8JpaISMEsdpZj74MaCl1mnnT9OL9wzLxHvFWaN5bx2Mc9J4rECAKI31Cz1Yc9wuvt3zOxCSe/KL33P3Y8GWSAQhSiDJOW+V9KCNMU8J4nHCgBIlmImDd0m6XuSbpV0m6RNZvbhsAsDghbluMNy3yvMGst57WKek8RjBQAkSzE/FunPJL3L3e9w999SburQp8MtCwhelOMOy32vMGss57WLeU4SjxUAkCzFhIZG9buE/hMV16gCiVJukKScBHa57xVm2KWccY/F1BP0sUq5z3cS9gGA7CgmNPRFSbMkPZFful3SNnf/05BrGxahIYStfwJbyp2F+8It16WuCUrDsaShRgBAYUOFhoY9U+nud0v6W+WazndIejgJzSYQhSyNSEzDsaShRgBA6Ya9pG5ml0l6xt2fyt8eZ2bT3X1v2MUBcctSkjoNx5KGGgEApSvms5hfl3S21+3u/BqQeVlKUqfhWNJQIwCgdMU0nNXu3tlzI//70eGVBCRHlpLUd990tWpG9R13VOy4zahkab8BAG8pJqV+zMw+5O7rJMnMFkv6cbhlAcmQuRGJZYzbjFLm9hsAIKm4lPoVklZImqrcf572S/otd/9h+OUNjZQ6UDxGSQIAwjTS0Za7JL3bzOqUa1B/FnSBAMJHIAcAEJdBP8NpZovM7NJeS5+U9O9mti6fXAeQIgRyAABxGSo09HlJxyTJzD4o6WOSfkfSOkn/O/zSAASJQA4AIC5DXVJ3d38z//tbJD3i7pslbTaz/xF+aUA8yhllmYTXHk45oy1HotxjjXOPAADhGOoMp5lZnZmNkjRf0oZe940NtywgHj2jFQ+eOCWXdPDEKd371DY9vfVgol+72Pdfs/mguvNBwW53rdl8MJT3L/dY494jAEA4hmo4H5L0sqQWSa+5e4skmdlsSW2hVwbEIMzRinGPbYzy/ct9r7j3CAAQjkEvqbv7o2b2TUkXSHql112HJf122IUBcQgzyR13SjzK9y/3veLeIwBAOIacNOTuB919q7uf7bXW5u77wi8NiF6YSe64U+JRvn+57xX3HgEAwlHMaEugYgSZ5H5660HNfXCjLrunWXMf3KgPXDN5wGvXjDK92dl17jFhflYxytGW5e4jSXoAyKZiRlsCFSOo0Yo94ZeezyMePHFKazYf1G+8c5qef/2YDp04pfpxNTrZ2aWfvnnm3GPufWpbnzoCF9Foy3L3kdGWAJBNxYy2nFhg+WfufiackorHaEskVTFjJKMeNcloSwBAmIYabVnMJfUtyv0A+B2SduZ/v8fMtpjZO4MrE8iOYsIvUQdkCOQAAOJSTMP5L5J+3d0nufvbJP2apFWS/oekvw6zOCCtigm/RB2QGe793F1PPvmkhrvqAQBAqYppOBvd/Zs9N9z9WUnvc/fvShoTWmVAihUTfok6IDPc+23ZskVLlizR1q1bQ3l/AEDlKiY0dNzMPiVpZf727ZJ+amZVks4O/jQgu4Ybv1hM+CXqUZPD1bRy5UqZmVauXKk5c+aM+P3CHG3J+EsASJdiQkOTJH1G0nuVy7T+u6TPSmqXdIm7/zDsIgdDaAhx6J9Al3JnCr9wy3UlNT1BvU4Q3F3Tpk1TW1ubpk6dqgMHDsis/Ah7ucdWzPOStG8AgLeMKDTk7j929z9y99nu/gvu/ofufszdO+NsNoG4BDV+Mc4xjt3d3erq6jr3q7W1Ve3t7ZKkEydOqLW1tc/93d3dw7xiX2GOtmT8JQCkz7CX1M3sKkl/Iml678e7Oz9HBRUpqLR3XKnx9vZ2XXjhhero6OhzFnP06NGScs3o7Nmzz627u8aMGaMjR46ovr6+qPcIc7QlaXsASJ9iQkNfl7RV0p9LurvXL6AiBZUuj2uMY319vZqbmzVhwgTV1NTI3eXu6ujokCR1dHScW6uurtaECRP0zDPPFN1sSuGOtmT8JQCkTzENZ5e7/427f8/dN/f8Cr0yIKGCSpcX+zr9R2QGMf5y/vz52r59u+bOnava2tqCj6mtrdWNN96oHTt2aN680i5o3H3T1aqp6jdGs8r0gWsmD3ksSUz3AwBGrpiGc72Z/Q8zazCziT2/Qq8MSKibZ0/TF265TtPOHydTblJPOYGVYl6nJyBz8MQpud4afxlE0zl58mRt2LBBCxcuVFVV3wauqqpKCxcu1HPPPadJkyaV9wb98ojd3a4n/2P/kMdSzJ4Etf8AgOgUk1LfU2DZ3f3ycEoqHil1ZF0U4yivuuoq7dy5s+D69u3lBXEGq7sQRmsCQDYMlVIfNjTk7pcFXxKAYoQdkNmzZ4/2798vSRo/frwuu+wy7dmzR2+++ab27dunvXv3avr06SW/bin1EfYBgOwb9JK6mc3Lf72l0K/oSgQqV9gBmTVr1qizs1N1dXV69NFH9eqrr+qRRx5RXV2dOjs7tWbNmrJet5T6CPsAQPYN9RnOX8p/XVTg1wdDrguAwg/IrFu3TjNnztS2bdt0++23S5KWLFmibdu2acaMGVq3bl1Zr1uo7ppRNiBIRNgHACrDsJ/hTDI+w4m0i3qMY//XuuO6Wv3OTe9UdfXAT9ecOXNGbW1tuuSSSwI7NqnvaM0PXDNZz79+bMjHMNoSANJhqM9wDtpwmtknh3pRd/9SALWNCA0n0izqEY1JGwlZqJ6aUSaZdKb7rX+XGG0JAOlQ7mjLn8v/apT03yVNy//6fUnXBl0kUGmiHtGYtJGQheo5c9b7NJsSoy0BIAsGTam7+2clycyelTTH3X+Wv92k3PQhACMQ9YjGpI2ELDfJnrTjAAAMr5gf/H6JpM5etzuVm6sOYASiHtGYtJGQ5SbZk3YcAIDhFdNwPi7pe2bWZGafkbRJ0j+EWxYQjjDGRJbr7puuzn1msZeaURZaanuwcZNhvd9we11ukp3RlgCQPsX84PfPm9m/SHpvfum33X1ruGUBwesfNukZrSgpvrCJDXM7aP0zgiH9kIpi9rrn63BJ9v4J9MGeR2AIAJKrqB+LZGZVki5UrwbV3feFWFdRSKmjFFGMiUxyPVG+X9L2GgAQvhGNtjSzP5L0GUlHJHUrdw7GJc0KskggbEkLm2Q5NJS0vQYAxKuYz3AulXS1u89w91nufp2702widZIWNslyaChpew0AiFcxDed+Se1hFwKELWlhk6jrifL9krbXAIB4DXtJXdJuSd82s2ZJHT2LSZg0BJQiyLBJECMpow6/3Dx7mlp+dFxPbNqvbndVmek33jktlOMfybH1f+1C4y8JCAFAugwbGsr/KKQBen4wfJwIDSEOxYxWTOL4xaBqCvPYCr12f3HvIwCgsHJHW0rKNZb55vKven6fhGYTiEsxoxWTOH4xqJrCPLZCr91f3PsIACjdsA2nmd1gZj+Q9Fr+9jvM7K9DrwxIqGIS2ElMaQdVU5jHVuxrkHYHgHQpJjT0kKSbJP1Ektz9FUnvC7EmINGKSWAnMaUdVE1hHluxr0HaHQDSpZiGU+6+v9/S0Ne8gAwrJoGdxJR2UDWFeWyFXru/uPcRAFC6YlLq+83sPZLczEZL+oTyl9eBSlAokf2FW65LVAK9GEHVFOaxFXptUuoAkH7FpNQnSVou6ZeVOyP6TUlL3f0n4Zc3NFLqCFsS0+YAACTRiEZbuvuPJX008KqAFBgqkU3DCQBAcYpJqV9uZuvN7JiZHTWztWZ2eRTFAXFLYtocAIC0KSY09E+SVklqkDRV0tclPRFmUUBSJDFtDgBA2hTTcJq7P+7uXflf/yhp6A9+AhmRxLT5SDy99aDmPrhRl93TrLkPbtTTWw/GXRIAoAIUk1J/3szukbRSuUbzdknNZjZRktz9eIj1AbFKYtq8XP0DUAdPnNK9T22TpFQeDwAgPYpJqe8Z4m5399g+z0lKHSje3Ac36mCBz55OO3+cXrhnXgwVAQCyZKQp9cuCLwlA1AhAAQDiMuhnOM3sXWY2pdft38on1L/cczkdQHoQgAIAxGWo0NDfSuqUJDN7n6QHJf2DpHZJD4dfGoAgZS0ABQBIj6EuqVf1CgTdLulhd18jaY2ZvRx6ZQAClZYAVKFRov1rDOoxAIBoDNlwmlm1u3dJmi/p40U+D0BC3Tx7WqKbrmKS9EE9BgAQnaEuqT8h6TtmtlbSKUn/Jklm9vPKXVYHgEANNUo06McAAKIz6JlKd/+8mW1QbsLQs/7Wz08aJemPoigOQGUpJkkf1GMAANEZctKQu3/X3b/h7id7re1w9y3hlwag0hSTpA/qMQCA6PBZTFSUP396m57YtF/d7qoy00euv1h/cfN1cZfVR5hhlyiDNIXeS+obWvrANZP1/OvH+txes/lgn8vhNaNMb3Z26bJ7mgd9TP+0/d03Xd3nM5yFHgMAiM6wk4aSjElDKMWfP71N//jdfQPWP/buSxLTdPYPu0i5RukLt1w34sYwzNcu5r1qRplk0pnuwf/NGVdTpd9457RzTWj9uBqd7Ozq85z+jyGlDgDJMNSkIRpOVIwr7n1G3QX+vFeZadcXfj2GigYKc/xklKMtB3uvYvSuh3GcAJAeQzWcQ36GE8iSQs3mUOtxCDPsEmWQZiSvSfgHALKHhhMVo8qspPU4hBl2iTJIM5LXJPwDANlDw4mK8ZHrLy5pPQ5hjp+McrRlofeqGWWqqRq6uS8U/mEcJwCkHyl1VIyeYFCpKfUowydhjp+8efY0tfzoeJ/j/413BjN5qNAefeGW64ZNqU9/2zh9d/dPB60nLeM4AQBDIzQEDCHKZHfYwjqWcl83S3sLACA0BJQtSyMSwzqWcl83S3sLABgaDScwhCylpMM6lnJfN0t7CwAYGg0nMIQspaTDOpZyXzdLewsAGFpsDaeZVZnZVjP75/ztiWb2LTPbmf86Ia7aytG8u1kLVi/QrMdmacHqBWre3Rx3SQhAllLSYR3LYK/7gWsma+6DG3XZPc2a++BGPb31YCT19Hh668Eh3z8J0lAjAAQhzpT6UkmvSTovf/seSRvc/UEzuyd/+1NxFVeK5t3NanqxSae7T0uS2k62qenFJknSwssXxlgZRipLKemwjqXQ6/afd37wxCnd+9S2Po8Pc2/7B5IKvX/c0lAjAAQllpS6mV0k6TFJn5f0SXf/oJltl/R+d28zswZJ33b3IU91JCWlvmD1ArWdbBuw3lDboGc//GwMFQHxinskZdzvX4w01AgApUhiSv0hSX8q6WyvtQvdvU2S8l8vKPREM/u4mbWYWcuxY8dCL7QYh08eLmkdyLq4A0Fxv38x0lAjAAQl8obTzD4o6ai7by7n+e7+sLs3unvj5MmTA66uPFNqp5S0DmRd3IGguN+/GGmoEQCCEscZzrmSPmRmeyWtlDTPzP5R0pH8pXTlvx6NobayLJ2zVGOrxvZZG1s1VkvnLI2pIiBecYet4n7/YqShRgAISuQNp7vf6+4Xuft0SUskbXT3j0laJ+mO/MPukLQ26toGM1wCfeHlC9X0niY11DbIZGqobVDTe5oIDKFi3Tx7mr5wy3Wadv44mXKfS4xyglDc71+MNNQISa2rpGUzpabzc19bV8VdEZBKsY62NLP3S/qTfGjobZJWSbpE0j5Jt7r78aGeH0VoqH8CXcqdvaShBICMa10lrf+EdKbX52prxkmLvizNui2+uoCESmJoSJLk7t929w/mf/8Td5/v7lfmvw7ZbEZl+ZblfZpNSTrdfVrLtyyPqSIAQCQ2PNC32ZRytzc8EE89QIoxaWgYJNABoEK1HyhtHcCgaDiHQQIdACpU/UWlrQMYFA3nMEigA0CFmn9/7jObvdWMy60DKEmcoy1ToScYtHzLch0+eVhTaqdo6ZylBIYAIOt6gkEbHshdRq+/KNdsEhgCShZrSn2kkjLaEgAAoNIlNqUOAACA7KPhBAAAQKhoOAEAABAqGk4AAACEioYTAAAAoaLhBAAAQKhoOAEAABAqGk4AAACEioYTmdW8u1kLVi/QrMdmacHqBWre3Rx3ScDwWldJy2ZKTefnvrauirsiABgxRlsik5p3N6vpxSad7j4tSWo72aamF5skibGkSK7WVdL6T0hnTuVut+/P3ZYYpwgg1TjDiUxavmX5uWazx+nu01q+ZXlMFQFF2PDAW81mjzOncusAkGI0nMikwycPl7QOJEL7gdLWASAlaDiRSVNqp5S0DiRC/UWlrQNAStBwIpOWzlmqsVVj+6yNrRqrpXOWxlQRUIT590s14/qu1YzLrQNAitFwJlA56epKT2T3P35JanpPkxpqG2QyNdQ2qOk9TQSGULKntx7U3Ac36rJ7mjX3wY16euvB8N5s1m3Soi9L9RdLstzXRV8eGBgiyQ4gZczd466hbI2Njd7S0hJ3GYHqn66WcmfmhmqWynlOllT68SM8T289qHuf2qZTZ7rPrY2rqdIXbrlON8+eFk9R/ZPsUu4saKHGFAAiZGab3b2x0H2c4UyYctLVlZ7IrvTjR3i++M3tfZpNSTp1pltf/Ob2mCoSSXYAqUTDmTDlpKsrPZFd6ceP8Bw6caqk9UiQZAeQQjScCVNOurrSE9mVfvwIz9Tzx5W0HgmS7ABSiIYzYcpJV1d6IrvSjx/hufumqzWupqrP2riaKt1909UxVSSS7ABSidGWCdMTclm+ZbkOnzysKbVTtHTO0iHDL+U8J0sq/fgRnp5g0Be/uV2HTpzS1PPHnWs25z64sc9aZCGinmDQhgdyl9HrL8o1mwSGACQYKXUAKEEik+sAkACk1AEgIIlMrgNAwtFwAkAJEplcB4CEo+EEgBIkMrkOAAlHwwkAJUhkch0AEo6UOgCUYLDkOoEhABgcDScAlOjm2dNoMAGgBFxSBwAAQKhoOAEAABAqGk4AAACEioYTAzTvbtaC1Qs067FZWrB6gZp3N8ddEgAEr3WVtGym1HR+7mvrqrgrAjKL0BD6aN7drKYXm3S6+7Qkqe1km5pebJIkZpMDyI7WVdL6T0hn8j+wv31/7rbEXHogBJzhRB/Ltyw/12z2ON19Wsu3LI+pIgAIwYYH3mo2e5w5lVsHEDgaTvRx+OThktYBIJXaD5S2DmBEaDjRx5TaKSWtA0Aq1V9U2jqAEaHhRB9L5yzV2KqxfdaqrVqnuk4RIgKQHfPvl2rG9V2rGZdbBxA4QkPooycYtHzLch0+eVjnjT5Pb3a9qRMdJyQRIgKQET3BoA0P5C6j11+UazYJDAGhMHePu4ayNTY2ektLS9xlZNqC1QvUdrJtwHpDbYOe/fCzMVQEAACSyMw2u3tjofu4pI4hESICAAAjRcOJIREiAgAAI0XDiSEVChGNrRqrpXOWxlQRAABIG0JDGFL/ENGU2ilaOmcpgSEAAFA0Gk4Ma+HlC2kwAQBA2bikDgAAgFDRcAIAACBUNJwAAAAIFQ1nSjXvbtaC1QsYNwkErXWVtGym1HR+7mvrqrgrAoDUIzSUQs27m9X0YpNOd5+WxLhJIDCtq6T1n5DOnMrdbt+fuy0x8hAARoAznCm0fMvyc81mj9Pdp7V8y/KYKgIyYsMDbzWbPc6cyq0DAMpGw5lCjJsEQtJ+oLR1AEBRaDhTiHGTQEjqLyptHQBQFBrOFGLcJBCS+fdLNeP6rtWMy60DAMpGaCiFGDdZnObdzewRStMTDNrwQO4yev1FuWaTwBBQGVpX8fc/JObucddQtsbGRm9paYm7DCRQ/yS/lDsL3PSeJppOAMBA/X9KhZS7wrHoyzSdRTKzze7eWOg+Lqkjk0jyAwBKwk+pCBUNJzKJJD8AoCT8lIpQ0XAik0jyAwBKwk+pCBUNJzKJJD8QMUaCIu34KRWhIqWOTCLJD0SIkaDIAn5KRahIqQMARmbZzFyT2V/9xdJdr0ZfD4BYkFIHAISHsAWAYdBwAgBGhrAFgGHQcAIARoawBYBh0HAilZp3N2vB6gWa9dgsLVi9QM27m+MuCcimYtLns27LTWOpv1iS5b4ynQVAL6TUkTr9x1a2nWxT04tNkkQKHQhSKenzWbfRYAIYFGc4kTqMrQQiwqg/AAGh4UTqMLYSiAjpcwABoeFE6jC2EogI6XMAAaHhROowthKICOlzAAEhNITUYWwlEBFG/QEICKMtAQAAMGKMtgQAAEBsaDgBAAAQKhpOAAAAhIqGEwCAkSpmBChQwUipAwAwEqWMAAUqFGc4AQAYCUaAAsOi4QQAYCQYAQoMi4YTAICRYAQoMCwaTgAARoIRoMCwaDgBABiJWbdJi74s1V8syXJfF315YGCIJDsqGCl1AABGatZtQyfSSbKjwnGGEwCAsJFkR4Wj4QQAIGwk2VHhaDgBAAgbSXZUOBpOAEgygibZQJIdFY7QEAAkFUGT7Oj5fm14IHcZvf6iXLPJ9xEVgoazQrm7Vq1apdtuu01mFnc5AAoZKmhCo5I+wyXZgQzjknqF2rJli5YsWaKtW7fGXQqAwRA0AZARNJwVauXKlTIzrVy5Mu5SAAyGoAmAjKDhrEDurhUrVvT5CiCBCJoAyAgazgrQ3d2trq6uc79aW1vV3t4uSTpx4oRaW1v73N/d3R1zxQAkFT8yEQASjtBQxrW3t+vCCy9UR0dHn3DQ6NGjJeWa0dmzZ59bd3eNGTNGR44cUX19feT1AuiHoAmADOAMZ8bV19erublZEyZMUE1Njdxd7q6Ojg5JUkdHx7m16upqTZgwQc888wzNJgAACAwNZwWYP3++tm/frrlz56q2trbgY2pra3XjjTdqx44dmjdvXsQVAgCALKPhrBCTJ0/Whg0btHDhQlVVVfW5r6qqSgsXLtRzzz2nSZMmxVQhAADIqsgbTjO72MyeN7PXzOz7ZrY0vz7RzL5lZjvzXydEXVvWmZm2bt06IBTU3d2tl19+mR8ADyRREkdbJrEmAIkWxxnOLkl/7O5vl/RuSX9gZtdKukfSBne/UtKG/G0EaM+ePdq/f78kafz48ZoxY4bGjx8vSdq3b5/27t0bY3UABugZbdm+X5K/NdoyzgYviTUBSLzIG053b3P3Lfnf/0zSa5KmSVos6bH8wx6TdHPUtWXdmjVr1NnZqbq6Oj366KN69dVX9cgjj6iurk6dnZ1as2ZN3CUC6G2o0ZZxSWJNABIv1s9wmtl0SbMlbZJ0obu3SbmmVNIFgzzn42bWYmYtx44di6zWLFi3bp1mzpypbdu26fbbb5ckLVmyRNu2bdOMGTO0bt26mCsE0EcSR1smsSYAiRfbz+E0szpJayTd6e7/WeznB939YUkPS1JjYyMjckrw+OOPa9q0aaqu7vttnz59ujZv3qy2traYKgNQUP1F+UvXBdbjksSaACReLGc4zaxGuWZzhbs/lV8+YmYN+fsbJB2No7Ysu/TSSwc0mz1qamp0ySWXRFwRgCElcbRlEmsCkHhxpNRN0iOSXnP3L/W6a52kO/K/v0PS2qhrA4BESeJoyyTWBCDxzD3aq9Jm9l5J/yZpm6Sz+eX7lPsc5ypJl0jaJ+lWdz8+1Gs1NjZ6S0tLiNUCAACgGGa22d0bC90X+Wc43f3fJQ32gc35UdYCAACA8DFpCAAAAKGi4QQAAECoaDgBAACyJIHjZ2k4AQChcXc9+eSTijqgClSshI6fpeEEAIRmy5YtWrJkibZu3Rp3KUBlSOj4WRpOAEBoVq5cKTPTypUr4y4FqAwJHT9LwwkACIW7a8WKFX2+AgjZYGNmYx4/S8MJAAhEd3e3urq6zv1qbW1Ve3u7JOnEiRNqbW3tc393d3fMFQMZlNDxs5H/4Hegt+bdzVq+ZbkOnzysKbVTtHTOUi28fGHcZQHJ0boq99mr9gO5MxTz70/kGMn29nZdeOGF6ujoUG6Ccc7o0aMl5ZrR2bNnn1t3d40ZM0ZHjhxRfX195PXGIiXfS6Rcz5+phP1Zo+FEbJp3N6vpxSad7j4tSWo72aamF5skiaYTkN5Km/YEAHrSplLs//Hor76+Xs3Nzbr11lt18uRJdXZ2SpI6Ojr6fJWkmpoa1dXVafXq1ZXVbKbke4kMmHVb4v5ccUkdsVm+Zfm5ZrPH6e7TWr5leUwVAQmT0LTpYObPn6/t27dr7ty5qq2tLfiY2tpa3XjjjdqxY4fmzZsXcYUxStn3EggaDSdic/jk4ZLWgYqT0LTpUCZPnqwNGzZo4cKFqqqq6nNfVVWVFi5cqOeee06TJk2KqcKYpPB7CQSJhhOxmVI7paR1oOIkNG06HDPT1q1bB4SCuru79fLLL/f5jGfFSOn3EggKDSdis3TOUo2tGttnbWzVWC2dszSmioCEmX+/NKqm79qomtjTpsPZs2eP9u/fL0kaP368ZsyYofHjx0uS9u3bp71798ZYXUwSmhxOvASOaER5aDgRm4WXL1TTe5rUUNsgk6mhtkFN72kiMAT01v9sYArODq5Zs0adnZ2qq6vTo48+qldffVWPPPKI6urq1NnZqTVr1sRdYvRm3SYt+rJUf7Eky31d9OXEBTsSJaEjGlEeS/MP4m1sbPSWlpa4ywCAcCybmf+PbT/1F0t3vRp9PUV63/vep/b2dq1du1bTp08/t75371596EMf0oQJE/Sd73wnvgKRDin981/JzGyzuzcWuo8fiwQASZXSoMnjjz+uadOmqbq6739ipk+frs2bN6utrS2mypAqKf3zj8K4pA4ASZXSoMmll146oNnsUVNTo0suuSTiipBKKf3zj8JoOAEgqQiaoJLx5z9TaDhj1ry7WQtWL9Csx2ZpweoFat7dHHdJAJIizUGTtKaL01p3FqX5zz8GIDQUo/6jHaXcjwUiqQ0g1fqPcZRyZ6aS3iyktW4gIYYKDXGGM0aMdgSQSWkd45jWuoEUoOGMEaMdAWRSWtPFaa0bSAEazhgx2hFAJqU1XZzWuoEUoOGMEaMdAWRSWtPFaa0bSAF+8HvEmnc3a/mW5Tp88rCm1E7R4p9frH898K/nbi+dszT2wFD/GoOsKczXBpAQPQGbDQ/kLkfXX5Rr2oIK3rSuCue1w64bqGCk1COUhlR6mDWm4fgBJBxJciCxSKknRBpS6WHWmIbjB5BwJMmBVKLhjFAaUulh1piG4weQcCTJgVSi4YxQGlLpYdaYhuMHkHAkyYFUouGMUKFUerVV61TXqcSMtgwzOU8qH8iw/iMh//mT4YyIJEkOpBIp9Qj1BGN6UtrnjT5Pb3a9qRMdJyRJbSfb1PRiU5/Hxl1jkEnyMF8bQIz6B3na90stj7x1f/v+3P3SyIM9JMmBVCKlHqMFqxeo7WTbgPWG2gY9++FnY6gIAMqwbGauqRxO/cXSXa+GXw+AWJBSTyhCNAAyodjADsEeoGLRcMaIEA2ATCg2sEOwB6hYNJwxIkQDIBMKBXn6I9gDVDRCQzEiRANggLDGNoapUJDnygXSzmfTdRwAQkNoCACSgrGNAFKM0BAApAFjGwFkFA0nACQFYxsBZBQNJwAkBWMbAWQUDScADKX/yMagRjQWwthGABlFSh0ABlNoZGNQIxoLYWwjgIyi4QSAwQwV4gmrCZx1Gw0mgMzhkjoADIYQDwAEgoYTAAZDiAcAAkHDCQCDIcQDAIGg4QSAwcy6LTflp/5iSZb7WuzUnyjT7UlQaccLoCSEhgBgKOWEeKJOt8et0o4XQMk4wwkAQau0EZWVdrwASkbDCQBBq7R0e6UdL4CS0XACQNAqLd1eaccLoGQ0nAAwlHLCMJWWbq+04wVQMkJDADCYcsMwlTaistKOF0DJzN3jrqFsjY2N3tLSEncZALJq2cxck9lf/cXSXa9GXw8AJJiZbXb3xkL3cUkdAAZDGAYAAkHDCQCDIQwDAIGg4QSAwRCGAYBA0HACwGBGMtoSyAJGliIgpNQBYCjljLYEsoCRpQgQZzgBAMBAjCxFgGg4AQDAQPyUBgSIhhMAAAzET2lAgGg4ASAIhCuQNfyUBgSI0BAAjBThCmQRI0sRIBpOABipocIV/McZacZPaUBAuKQOACNFuAIAhkTDCQAjRbgCAIZEwwkAI0W4AgCGRMNZpubdzVqweoFmPTZLC1YvUPPu5rIeAyADGIEJAEMiNFSG5t3NanqxSae7T0uS2k62qenFJknSwssXFv0YABlCuAIABsUZzjIs37L8XCPZ43T3aS3fsrykxwAAAFQCGs4yHD55eNj1Yh4DAABQCWg4yzCldsqw68U8BgAAoBLQcJZh6ZylGls1ts/a2KqxWjpnaUmPCRuhJSBCxYy2jHL8JaM2ASQIoaEy9IR+lm9ZrsMnD2tK7RQtnbO0TxiomMeEidASEKFiRltGOf6SUZsAEsbcPe4aytbY2OgtLS1xl5FIC1YvUNvJtgHrDbUNevbDz8ZQEZBhy2bmmrr+6i+W7nq1+MdEWQ8ABMzMNrt7Y6H7uKSeUYSWgAgVM9oyyvGXjNoEkDA0nBlFaAmIUDGjLaMcf8moTQAJQ8OZUUkILQEVo5jRllGOv2TUJoCEITSUUWGHlpp3N5f12uU+D0i0niDOhgdyl63rL8o1d70DOsU8Jsp6ACBChIZQsv4JeCl39rTpPU1DNo/lPg8AACQfoSEEqtyxnYz7BACgMtFwomTlJuBJzgMAUJloOFGychPwJOcBAKhMNJwoWbkJeJLzAABUJlLqEctCSrvcBHzc4z4BAEA8SKlHiJQ2AADIKlLqCUFKGwAAVCIazgiR0gYAAJWIhjNCpLQBAEAlouGMECltAABQiUipR4iUNgAAqEQ0nBFbePlCGkwAAFBRuKQOAACAUNFwAgAAIFQ0nAAAAAgVn+EEgCT7509Km78mebdkVdI7/5v0wS/FXRUAlISGEwCS6p8/KbU88tZt737rNk0ngBThkjoAJNXmr5W2DgAJRcMJAEnl3aWtA0BC0XACQFJZVWnrAJBQiWs4zexXzWy7mf3QzO6Jux4AiM07/1tp6wCQUIlqOM2sStJXJP2apGslfcTMro23KgCIyQe/JDX+7ltnNK0qd5vAEICUSVpK/Rcl/dDdd0uSma2UtFjSD2KtCgDi8sEv0WACSL1EneGUNE3S/l63D+TXzjGzj5tZi5m1HDt2LNLiAAAAULqkNZxWYM373HB/2N0b3b1x8uTJEZUFAACAciWt4Twg6eJety+SdCimWgAAABCApDWc/yHpSjO7zMxGS1oiaV3MNQEAAGAEEhUacvcuM/tDSd+UVCXpUXf/fsxlAQAAYAQS1XBKkrs/I+mZuOsAAABAMJJ2SR0AAAAZQ8MJAACAUNFwAgAAIFQ0nAAAAAgVDScAAABCRcMJAACAUNFwAgAAIFQ0nAAAAAgVDScAAABCRcMJAACAUNFwAgAAIFQ0nAAAAAgVDScAAABCRcMJAACAUNFwAgAAIFQ0nAAAAAiVuXvcNZTNzI5J+lHcdQRkkqQfx11EBWG/o8NeR4v9jg57HR32Olrl7vel7j650B2pbjizxMxa3L0x7joqBfsdHfY6Wux3dNjr6LDX0Qpjv7mkDgAAgFDRcAIAACBUNJzJ8XDcBVQY9js67HW02O/osNfRYa+jFfh+8xlOAAAAhIoznAAAAAgVDWfEzOxiM3vezF4zs++b2dL8+kQz+5aZ7cx/nRB3rVliZlVmttXM/jl/m/0OgZmdb2arzez1/J/xG9jr8JjZXfl/R141syfMbCz7HRwze9TMjprZq73WBt1fM7vXzH5oZtvN7KZ4qk6nQfb6i/l/S1rN7Btmdn6v+9jrESi0373u+xMzczOb1GttxPtNwxm9Lkl/7O5vl/RuSX9gZtdKukfSBne/UtKG/G0EZ6mk13rdZr/DsVzSv7j7NZLeodyes9chMLNpkj4hqdHdZ0qqkrRE7HeQvibpV/utFdzf/L/jSyTNyD/nr82sKrpSU+9rGrjX35I0091nSdoh6V6JvQ7I1zRwv2VmF0v6FUn7eq0Fst80nBFz9zZ335L//c+U+w/yNEmLJT2Wf9hjkm6OpcAMMrOLJC2U9NVey+x3wMzsPEnvk/SIJLl7p7ufEHsdpmpJ48ysWtJ4SYfEfgfG3f9V0vF+y4Pt72JJK929w933SPqhpF+Mos4sKLTX7v6su3flb35X0kX537PXIzTIn21JWibpTyX1DvgEst80nDEys+mSZkvaJOlCd2+Tck2ppAtiLC1rHlLuL9DZXmvsd/Aul3RM0t/nP77wVTOrFXsdCnc/KOmvlDsT0Sap3d2fFfsdtsH2d5qk/b0edyC/hmD8jqT/k/89ex0CM/uQpIPu/kq/uwLZbxrOmJhZnaQ1ku509/+Mu56sMrMPSjrq7pvjrqUCVEuaI+lv3H22pJPicm5o8p8dXCzpMklTJdWa2cfiraqiWYE1fgxMAMzsz5T7ONqKnqUCD2OvR8DMxkv6M0n3F7q7wFrJ+03DGQMzq1Gu2Vzh7k/ll4+YWUP+/gZJR+OqL2PmSvqQme2VtFLSPDP7R7HfYTgg6YC7b8rfXq1cA8peh+OXJe1x92PufkbSU5LeI/Y7bIPt7wFJF/d63EXKfcQBI2Bmd0j6oKSP+ls/x5G9Dt4Vyv3P6yv5/15eJGmLmU1RQPtNwxkxMzPlPuP2mrt/qddd6yTdkf/9HZLWRl1bFrn7ve5+kbtPV+5Dzxvd/WNivwPn7ocl7Tezq/NL8yX9QOx1WPZJereZjc//uzJfuc+Es9/hGmx/10laYmZjzOwySVdK+l4M9WWGmf2qpE9J+pC7v9nrLvY6YO6+zd0vcPfp+f9eHpA0J//veiD7XR1oxSjGXEm/KWmbmb2cX7tP0oOSVpnZ7yr3H5Jb4ymvYrDf4fgjSSvMbLSk3ZJ+W7n/sWWvA+bum8xstaQtyl1u3KrcdJA6sd+BMLMnJL1f0iQzOyDpMxrk3w53/76ZrVLuf7K6JP2Bu3fHUngKDbLX90oaI+lbuf+n0nfd/ffZ65ErtN/u/kihxwa130waAgAAQKi4pA4AAIBQ0XACAAAgVDScAAAACBUNJwAAAEJFwwkAAIBQ0XACqEhm9l/MzM3smhjee6+ZTSqw/oyZnR91PQAQNhpOAJXqI5L+XbmBAIng7r/u7ifirgMAgkbDCaDimFmdckMYfle9Gk4ze7+ZfdvMVpvZ62a2Ij/Fp+es5GfNbIuZbes5M2pmTWb2J71e41Uzm57//dNmttnMvm9mHy+irr1mNsnMppvZa2b2d/nnPmtm4/KP+Xkze87MXsnXcoXlfDH/3tvM7PZex/MdM1tlZjvM7EEz+6iZfS//uCvyj5tsZmvM7D/yv+YGtdcAINFwAqhMN0v6F3ffIem4mc3pdd9sSXdKulbS5co1pj1+7O5zJP2NpD/R8H7H3d8pqVHSJ8zsbSXUeKWkr7j7DEknJP1Gfn1Ffv0dys1Ob5N0i6RfkPQO5Wasf7Fn3nd+bamk65SbcnaVu/+ipK8qNxlKkpZLWubu78q/z1dLqBMAhkXDCaASfUTSyvzvV+Zv9/ieux9w97OSXpY0vdd9T+W/bu63PphPmNkrkr4r6WLlmshi7XH3l3u/n5n9nKRp7v4NSXL30/kZ0++V9IS7d7v7EUnfkfSu/HP/w93b3L1D0i5Jz+bXt/U6hl+W9L/y43bXSTov/14AEAhmqQOoKPmzjPMkzTQzl1Qlyc3sT/MP6ej18G71/Xeyo8B6l/r+z/vY/Pu8X7lG7gZ3f9PMvt1zX5H61zFOkg3y2MHW+7/O2V63z+qtYxiVr/NUCfUBQNE4wwmg0nxY0j+4+6XuPt3dL5a0R7mzhOXYK2mOJOUvzV+WX6+X9NN8s3mNpHePrGzJ3f9T0gEzuzn/fmPMbLykf5V0u5lVmdlkSe+T9L0SXvpZSX/Yc8PMfmGktQJAbzScACrNRyR9o9/aGkn/tczXWyNpYv5y9H+XtCO//i+Sqs2sVdLnlLusHoTfVO5SfaukFyVNUe54WiW9ImmjpD9198MlvOYnJDWaWauZ/UDS7wdUKwBIkszd464BAAAAGcYZTgAAAISKhhMAAAChouEEAABAqGg4AQAAECoaTgAAAISKhhMAAAChouEEAABAqGg4AQAAEKr/HxATMk6d5giOAAAAAElFTkSuQmCC\n",
      "text/plain": [
       "<Figure size 792x792 with 1 Axes>"
      ]
     },
     "metadata": {
      "needs_background": "light"
     },
     "output_type": "display_data"
    }
   ],
   "source": [
    "plt.figure(figsize=(11,11))\n",
    "\n",
    "\n",
    "\n",
    "\n",
    "plt.title('Customer Groups')\n",
    "\n",
    "plt.scatter(cl0.Annual_Income,cl0.Spending_Score)\n",
    "plt.scatter(cl1.Annual_Income,cl1.Spending_Score)\n",
    "plt.scatter(cl2.Annual_Income,cl2.Spending_Score)\n",
    "plt.scatter(cl3.Annual_Income,cl3.Spending_Score)\n",
    "plt.scatter(cl4.Annual_Income,cl4.Spending_Score)\n",
    "\n",
    "# plot the centroids\n",
    "\n",
    "plt.scatter(km.cluster_centers_[:,0], km.cluster_centers_[:,1], s=170,marker='*', c='black', label='Centroids')\n",
    "\n",
    "plt.xlabel('Annual income')\n",
    "plt.ylabel('Spending Score')"
   ]
  },
  {
   "cell_type": "code",
   "execution_count": null,
   "id": "827596cd",
   "metadata": {},
   "outputs": [],
   "source": []
  }
 ],
 "metadata": {
  "kernelspec": {
   "display_name": "Python 3",
   "language": "python",
   "name": "python3"
  },
  "language_info": {
   "codemirror_mode": {
    "name": "ipython",
    "version": 3
   },
   "file_extension": ".py",
   "mimetype": "text/x-python",
   "name": "python",
   "nbconvert_exporter": "python",
   "pygments_lexer": "ipython3",
   "version": "3.8.8"
  }
 },
 "nbformat": 4,
 "nbformat_minor": 5
}
